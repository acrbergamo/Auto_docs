{
 "cells": [
  {
   "cell_type": "markdown",
   "id": "f05d4bc8",
   "metadata": {},
   "source": [
    "# AUTODOCS COMPLETO"
   ]
  },
  {
   "cell_type": "markdown",
   "id": "f35f9000",
   "metadata": {},
   "source": [
    "Este projeto foi desenvolvido sob demanda para a empresa Metrocasa, com o objetivo de automatizar processos repetitivos.\n",
    "\n",
    "O script apresentado realiza o download de arquivos no sistema ANAPRO e faz o reupload dos arquivos compactados para a nuvem do OneDrive, seguindo as diretrizes de uma planilha base.\n",
    "\n",
    "Para facilitar a leitura e compreensão, o código foi reformulado no formato de um notebook, servindo como uma demonstração de conhecimento. No entanto, para aplicação em produção, recomenda-se a refatoração do código e sua posterior compilação para um executável. Além disso, a adição de caixas de diálogo e mensagens informativas pode melhorar significativamente a experiência do usuário."
   ]
  },
  {
   "cell_type": "markdown",
   "id": "084f6c3b",
   "metadata": {},
   "source": [
    "# Carregar todas as bibliotecas\n"
   ]
  },
  {
   "cell_type": "raw",
   "id": "83d06909",
   "metadata": {},
   "source": [
    "Carregaremos as bibliotecas que serão uteis ao longo do código. Caso precise instalar qualquer uma dessas bibliotecas basta executar a instrução \"!pip instal ...\" e reiniciar o código. Por esse motivo prefiro colocar no inicio todas as bibliotecas que serão usadas.\n",
    "\n",
    "\n",
    "!pip install time\n",
    "!pip install pandas\n",
    "!pip install os\n",
    "!pip install shutil\n",
    "!pip install selenium\n",
    "!pip install ChromeDriverManager\n",
    "!pip install tkinter\n",
    "!pip install zipfile"
   ]
  },
  {
   "cell_type": "code",
   "execution_count": null,
   "id": "8003df23",
   "metadata": {},
   "outputs": [],
   "source": [
    "import time\n",
    "import pandas as pd\n",
    "import os\n",
    "import shutil\n",
    "import tkinter as tk\n",
    "from tkinter import filedialog\n",
    "import zipfile\n",
    "\n",
    "\n",
    "from selenium import webdriver\n",
    "from webdriver_manager.chrome import ChromeDriverManager\n",
    "from selenium.webdriver.chrome.service import Service\n",
    "\n",
    "from selenium.webdriver.common.by import By\n",
    "from selenium.webdriver.support.ui import WebDriverWait\n",
    "from selenium.webdriver.support import expected_conditions as EC\n",
    "\n",
    "\n",
    "from selenium.webdriver.chrome.options import Options\n",
    "# Configurar opções do Chrome\n",
    "chrome_options = Options()\n",
    "chrome_options.add_argument(\"--start-maximized\")\n",
    "\n",
    "\n",
    "\n",
    "servico = Service(ChromeDriverManager().install())\n",
    "\n",
    "navegador = webdriver.Chrome(service=servico, options=chrome_options)\n",
    "\n"
   ]
  },
  {
   "cell_type": "markdown",
   "id": "045c78fa",
   "metadata": {},
   "source": [
    "# Carregar informações bases"
   ]
  },
  {
   "cell_type": "markdown",
   "id": "983efa4d",
   "metadata": {},
   "source": [
    "O primeiro passo será carregar os dados da planilha DADOS.xlsx contendo as informações de empreendimento, unidade, nome do cliente e número do processo ANAPRO."
   ]
  },
  {
   "cell_type": "code",
   "execution_count": null,
   "id": "89761f53",
   "metadata": {},
   "outputs": [],
   "source": [
    "# Caminho do arquivo Excel\n",
    "## A planilha DADOS.xlsx precisa estar no mesmo diretório do código. Nela deve conter as instruções base para.\n",
    "## DADOS.xlsx deve conter 3 colunas: EMPREEND, CHV, PROCESSO.\n",
    "## EMPREEND = Nome do empreendimento\n",
    "## CHV = Nome do cliente + Unidade\n",
    "## Endereço do processo no sistema ANAPRO\n",
    "\n",
    "### Esses dados podem ser facilmente reescritos para ser compativeis com as planilhas de relatórios do Anapro para criar um sistema completamente autonomo\n",
    "caminho_arquivo = \"DADOS.xlsx\"\n",
    "\n",
    "# Caminho da pasta onde as pastas devem estar\n",
    "## Complemente o endereço endereço de diretório \n",
    "caminho_base = r\"*\\OneDrive - CONSTRUTORA METROCASA SA\\2 - EMPREENDIMENTOS  - CLIENTES (ATUALIZADO)\"\n",
    "\n",
    "def selecionar_diretorio():\n",
    "    root = tk.Tk()\n",
    "    root.withdraw()  # Oculta a janela principal do Tkinter\n",
    "    diretorio = filedialog.askdirectory(title='Selecione um diretório')\n",
    "    return diretorio\n",
    "\n",
    "# Utilize a janela de dialogo para o usuário selecionar o diretorio da nuvem onde serão armazenados as documentações.\n",
    "caminho_base = selecionar_diretorio()\n",
    "print(f'Diretório selecionado: {caminho_base}')\n"
   ]
  },
  {
   "cell_type": "code",
   "execution_count": null,
   "id": "e4496a57",
   "metadata": {},
   "outputs": [],
   "source": [
    "# Ler o arquivo Excel\n",
    "df = pd.read_excel(caminho_arquivo)"
   ]
  },
  {
   "cell_type": "code",
   "execution_count": null,
   "id": "b0248b59",
   "metadata": {},
   "outputs": [],
   "source": [
    "# Função que simula a fórmula do Excel para extrair o numero do processo na coluna de endereçamento e criar uma nova coluna com \"Arquivo do Processo\" + o numero do processo\n",
    "def arquivo_nome(row):\n",
    "    # Extrair o valor à direita do \"=\" na coluna C2\n",
    "    parte_direita = row['PROCESSO'].split('=')[-1]  # pega a parte após o \"=\"\n",
    "    return \"Arquivos do Processo \" + parte_direita\n",
    "\n",
    "# Aplica a função em cada linha criando uma nov\n",
    "df['ARQUIVO_NOME'] = df.apply(arquivo_nome, axis=1)"
   ]
  },
  {
   "cell_type": "markdown",
   "id": "ba804b58",
   "metadata": {},
   "source": [
    "# Verificador"
   ]
  },
  {
   "cell_type": "markdown",
   "id": "364ab943",
   "metadata": {},
   "source": [
    "Iremos percorrer todos os arquivos no diretório da núvem para comprar com os Arquivos do Processo afim de saber quais já estão na nuvem e quais ainda faltam colocar. Isso evita o problema de duplicidade."
   ]
  },
  {
   "cell_type": "code",
   "execution_count": null,
   "id": "857202eb",
   "metadata": {},
   "outputs": [],
   "source": [
    "# Verificar se a coluna ARQUIVO_NOME existe\n",
    "if \"ARQUIVO_NOME\" not in df.columns:\n",
    "    raise ValueError(\"A coluna 'ARQUIVO_NOME' não foi encontrada no arquivo Excel.\")\n",
    "\n",
    "# Criar um dicionário para armazenar os resultados\n",
    "resultados = {}\n",
    "\n",
    "# Criar um conjunto com todas as pastas existentes dentro do caminho_base (incluindo subpastas)\n",
    "pastas_existentes = set()"
   ]
  },
  {
   "cell_type": "code",
   "execution_count": null,
   "id": "a0c4cbf8",
   "metadata": {},
   "outputs": [],
   "source": [
    "for raiz, diretorios, _ in os.walk(caminho_base):\n",
    "    for diretorio in diretorios:\n",
    "        caminho_completo = os.path.join(raiz, diretorio)\n",
    "        pastas_existentes.add((diretorio, caminho_completo))  # Guarda o nome e o caminho completo\n"
   ]
  },
  {
   "cell_type": "code",
   "execution_count": null,
   "id": "1479cc64",
   "metadata": {},
   "outputs": [],
   "source": [
    "# Percorrer os nomes das pastas na planilha e verificar se existem no conjunto\n",
    "for nome_pasta in df[\"ARQUIVO_NOME\"].dropna().astype(str):\n",
    "    encontrado = False\n",
    "    caminho_encontrado = \"\"\n",
    "\n",
    "    for pasta, caminho in pastas_existentes:\n",
    "        if nome_pasta == pasta:\n",
    "            encontrado = True\n",
    "            caminho_encontrado = caminho\n",
    "            break  # Para assim que encontrar a primeira ocorrência\n",
    "\n",
    "    resultados[nome_pasta] = {\"STATUS\": \"Encontrada\" if encontrado else \"Não Encontrada\",\n",
    "                               \"CAMINHO_ENCONTRADO\": caminho_encontrado if encontrado else \"N/A\"}"
   ]
  },
  {
   "cell_type": "code",
   "execution_count": null,
   "id": "e13cb800",
   "metadata": {},
   "outputs": [],
   "source": [
    "# Criar um DataFrame com os resultados\n",
    "resultado_df = pd.DataFrame.from_dict(resultados, orient=\"index\").reset_index()\n",
    "resultado_df.rename(columns={\"index\": \"ARQUIVO_NOME\"}, inplace=True)"
   ]
  },
  {
   "cell_type": "markdown",
   "id": "5fdfe3f7",
   "metadata": {},
   "source": [
    "caminho_saida = \"resultado_pastas_com_subpastas.xlsx\"\n",
    "resultado_df.to_excel(caminho_saida, index=False)\n",
    "\n",
    "print(f\"\\nArquivo '{caminho_saida}' salvo com o status das pastas e seus caminhos.\")"
   ]
  },
  {
   "cell_type": "code",
   "execution_count": null,
   "id": "fb33173f",
   "metadata": {
    "scrolled": true
   },
   "outputs": [],
   "source": [
    "# Verificar valores únicos e suas contagens na coluna STATUS\n",
    "print(resultado_df[\"STATUS\"].value_counts())"
   ]
  },
  {
   "cell_type": "code",
   "execution_count": null,
   "id": "d07e5e22",
   "metadata": {},
   "outputs": [],
   "source": [
    "# Vamos comparar df BASE com resultado_df de varredura e remover as linhas de df BASE que foram encontradas na verredura\n",
    "\n",
    "def remover_linhas_comuns(resultado_df, df):\n",
    "    df_filtrado = df[~df['ARQUIVO_NOME'].isin(resultado_df['ARQUIVO_NOME'])]\n",
    "    return df_filtrado\n",
    "\n",
    "\n",
    "resultado_df = pd.DataFrame({'ARQUIVO_NOME': ['file1.txt', 'file2.txt']})\n",
    "df = pd.DataFrame({'ARQUIVO_NOME': ['file1.txt', 'file2.txt', 'file3.txt', 'file4.txt']})\n",
    "df_atualizado = remover_linhas_comuns(resultado_df, df)"
   ]
  },
  {
   "cell_type": "markdown",
   "id": "87a989f4",
   "metadata": {},
   "source": [
    "# Baixar os arquivos"
   ]
  },
  {
   "cell_type": "markdown",
   "id": "be4c5bd8",
   "metadata": {},
   "source": [
    "Com o Dataframe Base contendo apenas os processos de clientes que ainda não estão na nuvem, iremos baixar os arquivos faltantes"
   ]
  },
  {
   "cell_type": "code",
   "execution_count": null,
   "id": "afd1d26f",
   "metadata": {},
   "outputs": [],
   "source": [
    "# Cria uma coluna para marcar o que será baixado e armazena em forma de lista para aumentar a performance\n",
    "\n",
    "df['DOWNLOAD'] = 0\n",
    "\n",
    "\n",
    "processos_nao_baixados = df[df[\"DOWNLOAD\"] == 0][\"PROCESSO\"].tolist()\n",
    "processos_nao_baixados"
   ]
  },
  {
   "cell_type": "code",
   "execution_count": null,
   "id": "535c1d18",
   "metadata": {
    "scrolled": true
   },
   "outputs": [],
   "source": [
    "navegador.get('https://metrocasa.anapro.com.br/')\n",
    "espera = WebDriverWait(navegador, 600)  # Tempo máximo de espera de 60 segundos\n",
    "segundo_botao = espera.until(EC.element_to_be_clickable((By.XPATH, '//*[@id=\"aspnetForm\"]/div[4]/div[3]/div/div[3]/b')))\n",
    "navegador.minimize_window()\n",
    "\n",
    "\n",
    "for index, link_download in enumerate(processos_nao_baixados):\n",
    "    # Copiar o link para a área de transferência\n",
    "    \n",
    "    print(f\"Acessando: {link_download}\")\n",
    "\n",
    "    navegador.get(link_download)\n",
    "    navegador.find_element('xpath','//*[@id=\"ctl00_conteudo_wucDocumentacao_btnBaixarTudo\"]').click()\n",
    "    espera = WebDriverWait(navegador, 60)  # Tempo máximo de espera de 60 segundos\n",
    "    segundo_botao = espera.until(EC.element_to_be_clickable((By.XPATH, '//*[@id=\"ctl00_conteudo_msgResultado\"]/a')))\n",
    "    segundo_botao.click()\n",
    "    \n",
    "    # Marcar o processo como baixado na planilha\n",
    "    df.loc[df[\"PROCESSO\"] == link_download, \"DOWNLOAD\"] = 1\n",
    "    print(f\"Download concluído: {link_download}\")\n",
    "\n",
    "\n",
    "# Salvar o DataFrame atualizado\n",
    "df.to_excel(\"DADOS_ATUALIZADOS.xlsx\", index=False)\n",
    "\n",
    "print(\"Todos os downloads foram realizados e a planilha foi atualizada!\")"
   ]
  },
  {
   "cell_type": "code",
   "execution_count": null,
   "id": "ed55558b",
   "metadata": {},
   "outputs": [],
   "source": [
    "df_baixados = df[df[\"DOWNLOAD\"] == 1]"
   ]
  },
  {
   "cell_type": "markdown",
   "id": "f8020e92",
   "metadata": {},
   "source": [
    "# Descomprime os zips"
   ]
  },
  {
   "cell_type": "code",
   "execution_count": null,
   "id": "3f48aced",
   "metadata": {},
   "outputs": [],
   "source": [
    "def extrair_zips_em_pastas(base_path):\n",
    "    \"\"\"\n",
    "    Encontra e extrai todos os arquivos .zip dentro do diretório \"PROCESSOS\",\n",
    "    criando uma pasta para cada um com o mesmo nome do arquivo.\n",
    "    Se o diretório \"PROCESSOS\" não existir, ele será criado.\n",
    "    \n",
    "    :param base_path: Caminho base onde está a pasta \"PROCESSOS\"\n",
    "    \"\"\"\n",
    "    processos_path = os.path.join(base_path, \"PROCESSOS\")\n",
    "    \n",
    "    if not os.path.exists(processos_path):\n",
    "        os.makedirs(processos_path)\n",
    "        print(f\"Diretório criado: {processos_path}\")\n",
    "        return\n",
    "    \n",
    "    for arquivo in os.listdir(processos_path):\n",
    "        if arquivo.lower().endswith(\".zip\"):\n",
    "            zip_path = os.path.join(processos_path, arquivo)\n",
    "            pasta_destino = os.path.join(processos_path, os.path.splitext(arquivo)[0])\n",
    "            \n",
    "            os.makedirs(pasta_destino, exist_ok=True)\n",
    "            \n",
    "            with zipfile.ZipFile(zip_path, 'r') as zip_ref:\n",
    "                zip_ref.extractall(pasta_destino)\n",
    "            \n",
    "            print(f\"Extraído: {zip_path} -> {pasta_destino}\""
   ]
  },
  {
   "cell_type": "markdown",
   "id": "a282ea45",
   "metadata": {},
   "source": [
    "# ORGANIZAR OS ARQUIVOS "
   ]
  },
  {
   "cell_type": "code",
   "execution_count": null,
   "id": "8e3f0bc9",
   "metadata": {},
   "outputs": [],
   "source": [
    "# CRIA AS PASTAS DOS CLIENTES\n",
    "\n",
    "base_directory = r\"*\\PROCESSOS\"\n",
    "\n",
    "# Garantir que o diretório base existe\n",
    "os.makedirs(base_directory, exist_ok=True)\n",
    "\n",
    "# Criar pastas para cada nome único da coluna CHV\n",
    "for nome_pasta in df[\"CHV\"].dropna().unique():  # Remove valores NaN e pega os únicos\n",
    "    pasta_path = os.path.join(base_directory, str(nome_pasta))  # Caminho completo da pasta\n",
    "    os.makedirs(pasta_path, exist_ok=True)  # Cria a pasta se não existir\n",
    "\n",
    "print(\"Pastas criadas com sucesso!\")"
   ]
  },
  {
   "cell_type": "code",
   "execution_count": null,
   "id": "7cf243f9",
   "metadata": {},
   "outputs": [],
   "source": [
    "# CRIA AS PASTAS DOS EMPREENDIMENTOS\n",
    "\n",
    "# Garantir que o diretório base existe\n",
    "os.makedirs(base_directory, exist_ok=True)\n",
    "\n",
    "# Criar pastas para cada nome único da coluna EMPREEND\n",
    "for nome_pasta in df[\"EMPREEND\"].dropna().unique():  # Remove valores NaN e pega os únicos\n",
    "    pasta_path = os.path.join(base_directory, str(nome_pasta))  # Caminho completo da pasta\n",
    "    os.makedirs(pasta_path, exist_ok=True)  # Cria a pasta se não existir\n",
    "\n",
    "print(\"Pastas criadas com sucesso!\")"
   ]
  },
  {
   "cell_type": "code",
   "execution_count": null,
   "id": "b99c07da",
   "metadata": {
    "scrolled": true
   },
   "outputs": [],
   "source": [
    "# COLOCA OS PROCESSOS NAS RESPECTIVAS PASTAS DOS CLIENTES\n",
    "\n",
    "\n",
    "for _, row in df.iterrows():\n",
    "    nome_pasta = str(row[\"CHV\"])  # Nome da pasta correspondente\n",
    "    nome_arquivo = str(row[\"ARQUIVO_NOME\"])  # Nome do arquivo\n",
    "\n",
    "    # Caminho da pasta correspondente ao EMPREEND\n",
    "    pasta_destino = os.path.join(base_directory, nome_pasta)\n",
    "\n",
    "    # Caminho do arquivo de origem\n",
    "    arquivo_origem = os.path.join(base_directory, nome_arquivo)\n",
    "\n",
    "    # Caminho do arquivo de destino dentro da pasta correta\n",
    "    arquivo_destino = os.path.join(pasta_destino, nome_arquivo)\n",
    "\n",
    "    # Verifica se o arquivo existe antes de mover\n",
    "    if os.path.exists(arquivo_origem):\n",
    "        shutil.move(arquivo_origem, arquivo_destino)\n",
    "        print(f\"Movido: {nome_arquivo} → {pasta_destino}\")\n",
    "    else:\n",
    "        print(f\"Arquivo não encontrado: {arquivo_origem}\")\n",
    "\n",
    "print(\"Todos os arquivos foram organizados nas pastas correspondentes!\")"
   ]
  },
  {
   "cell_type": "code",
   "execution_count": null,
   "id": "17db9287",
   "metadata": {},
   "outputs": [],
   "source": [
    "# COLOCA OS CLIENTES NAS RESPECTIVAS PASTAS DOS EMPREENDIMENTOS\n",
    "\n",
    "for _, row in df.iterrows():\n",
    "    nome_pasta = str(row[\"EMPREEND\"])  # Nome da pasta correspondente\n",
    "    nome_arquivo = str(row[\"CHV\"])  # Nome do arquivo\n",
    "\n",
    "    # Caminho da pasta correspondente ao EMPREEND\n",
    "    pasta_destino = os.path.join(base_directory, nome_pasta)\n",
    "\n",
    "    # Caminho do arquivo de origem\n",
    "    arquivo_origem = os.path.join(base_directory, nome_arquivo)\n",
    "\n",
    "    # Caminho do arquivo de destino dentro da pasta correta\n",
    "    arquivo_destino = os.path.join(pasta_destino, nome_arquivo)\n",
    "\n",
    "    # Verifica se o arquivo existe antes de mover\n",
    "    if os.path.exists(arquivo_origem):\n",
    "        shutil.move(arquivo_origem, arquivo_destino)\n",
    "        print(f\"Movido: {nome_arquivo} → {pasta_destino}\")\n",
    "    else:\n",
    "        print(f\"Arquivo não encontrado: {arquivo_origem}\")\n",
    "\n",
    "print(\"Todos os arquivos foram organizados nas pastas correspondentes!\")"
   ]
  },
  {
   "cell_type": "markdown",
   "id": "76e23651",
   "metadata": {},
   "source": [
    "# Mover os docs para a nuvem"
   ]
  },
  {
   "cell_type": "markdown",
   "id": "fec64e66",
   "metadata": {},
   "source": [
    "Aqui os arquivos que foram colocados em seus respectivos empreendimentos, cliente+unidade e número do processo são movidos para a nuvem do OneDrive.\n",
    "\n",
    "Por motivos de privacidade organizacional esse trecho do código foi retirado para pode ser facilmente escrito de acordo com a necessidade ou os arquivos podem ser movidos manualmente para evitar qualquer pontualidade com endereçamento de diretorio"
   ]
  },
  {
   "cell_type": "markdown",
   "id": "fc879f64",
   "metadata": {},
   "source": [
    "# Verificar todos os arquivos novamente"
   ]
  },
  {
   "cell_type": "markdown",
   "id": "bc7b774f",
   "metadata": {},
   "source": [
    "Verifica se os arquivos com os numeros dos processos foram colocados na nuvem"
   ]
  },
  {
   "cell_type": "code",
   "execution_count": null,
   "id": "5116520b",
   "metadata": {},
   "outputs": [],
   "source": [
    "for raiz, diretorios, _ in os.walk(caminho_base):\n",
    "    for diretorio in diretorios:\n",
    "        caminho_completo = os.path.join(raiz, diretorio)\n",
    "        pastas_existentes.add((diretorio, caminho_completo))  # Guarda o nome e o caminho completo\n",
    "\n",
    "# Percorrer os nomes das pastas na planilha e verificar se existem no conjunto\n",
    "for nome_pasta in df[\"ARQUIVO_NOME\"].dropna().astype(str):\n",
    "    encontrado = False\n",
    "    caminho_encontrado = \"\"\n",
    "\n",
    "    for pasta, caminho in pastas_existentes:\n",
    "        if nome_pasta == pasta:\n",
    "            encontrado = True\n",
    "            caminho_encontrado = caminho\n",
    "            break  # Para assim que encontrar a primeira ocorrência\n",
    "\n",
    "    resultados[nome_pasta] = {\"STATUS\": \"Encontrada\" if encontrado else \"Não Encontrada\",\n",
    "                               \"CAMINHO_ENCONTRADO\": caminho_encontrado if encontrado else \"N/A\"}\n",
    "\n",
    "# Criar um DataFrame com os resultados\n",
    "resultado_df = pd.DataFrame.from_dict(resultados, orient=\"index\").reset_index()\n",
    "resultado_df.rename(columns={\"index\": \"ARQUIVO_NOME\"}, inplace=True)"
   ]
  }
 ],
 "metadata": {
  "kernelspec": {
   "display_name": "Python 3 (ipykernel)",
   "language": "python",
   "name": "python3"
  },
  "language_info": {
   "codemirror_mode": {
    "name": "ipython",
    "version": 3
   },
   "file_extension": ".py",
   "mimetype": "text/x-python",
   "name": "python",
   "nbconvert_exporter": "python",
   "pygments_lexer": "ipython3",
   "version": "3.9.13"
  },
  "toc": {
   "base_numbering": 1,
   "nav_menu": {},
   "number_sections": true,
   "sideBar": true,
   "skip_h1_title": false,
   "title_cell": "Table of Contents",
   "title_sidebar": "Contents",
   "toc_cell": false,
   "toc_position": {},
   "toc_section_display": true,
   "toc_window_display": false
  }
 },
 "nbformat": 4,
 "nbformat_minor": 5
}
